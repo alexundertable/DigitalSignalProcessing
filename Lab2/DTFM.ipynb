{
 "cells": [
  {
   "attachments": {},
   "cell_type": "markdown",
   "metadata": {},
   "source": [
    "# Лабораторная работа: декодирование DTMF сигнала\n",
    "### Кодуков А. В. вариант 3"
   ]
  },
  {
   "cell_type": "code",
   "execution_count": 53,
   "metadata": {},
   "outputs": [
    {
     "name": "stdout",
     "output_type": "stream",
     "text": [
      "\n",
      "First pressed button:\n"
     ]
    },
    {
     "data": {
      "image/png": "[encoded data removed]",
      "text/plain": [
       "<Figure size 640x480 with 1 Axes>"
      ]
     },
     "metadata": {},
     "output_type": "display_data"
    }
   ],
   "source": [
    "import librosa\n",
    "from matplotlib import pyplot as plt\n",
    "\n",
    "N = 44100\n",
    "x, sr = librosa.load(\"DTMF_Lab3.wav\", sr = 44100)\n",
    "plt.show()\n",
    "\n",
    "ms200 = int(N * 0.2)\n",
    "signal_len = ms200\n",
    "skip_len = int(ms200 / 2)\n",
    "\n",
    "signals = []\n",
    "\n",
    "print()\n",
    "plt.plot(x)\n",
    "\n",
    "# разбиение сигнала на части по 200мс\n",
    "for i in range(int(len(x) / (signal_len + skip_len))):\n",
    "    cur_step = (signal_len + skip_len) * i\n",
    "    signals.append(x[cur_step:cur_step + signal_len])\n",
    "\n",
    "plt.plot(signals[0])\n",
    "\n",
    "print(\"First pressed button:\")\n",
    "\n",
    "plt.show()"
   ]
  },
  {
   "cell_type": "code",
   "execution_count": 54,
   "metadata": {},
   "outputs": [
    {
     "name": "stdout",
     "output_type": "stream",
     "text": [
      "[78809.22618204867, 145.7209206401444, 27.444580814546498, 8.629338751114517, 0.2997940323850248, 17606.373209869373, 30.942716903579594, 4.166244331001806]\n",
      "[78693.88752666, 136.5394505025347, 20.9089821991073, 3.823844249335451, 0.03410879614054341, 1.4829234859581513, 23.3653726312952, 174752.4925994263]\n",
      "[78710.04146163864, 139.06002716128205, 23.25353994813537, 5.601738961815698, 0.089648227875059, 13.267516496010998, 78836.91775708587, 23.37059007196777]\n",
      "[15.279077532024985, 302328.3173966706, 14.462337991209779, 10.054450401587928, 0.6372507907079736, 1.4694619375319267, 24.19489942420195, 174635.2813063482]\n",
      "[15.61822114501092, 301978.99781871587, 22.96993053614051, 29.02872633542529, 264437.94450573623, 0.012563268142018896, 1.9753869877514063, 1.0821188124456818]\n",
      "[9.075097371290866, 68.32902763679476, 78723.67965000076, 84.2835436245366, 0.1636268050708236, 1.818518856148561, 25.17507024596918, 174765.53399286303]\n",
      "[15.504974421191037, 302113.2636734098, 18.766364168741347, 17.06689135096417, 0.2939826296259067, 17657.644327044138, 29.66998210215536, 4.0424968467286675]\n",
      "[1.6320041127569596, 0.4033064893339926, 5.7284505595612245, 17623.747075451072, 5.864743829192776, 1.3241975945271562, 23.961474606093397, 174678.0504051604]\n",
      "[14.80179513073017, 302387.2022495568, 14.528240898671584, 11.010497258935857, 0.6185255941967895, 12.375735131885222, 78767.15865230153, 22.372818711673375]\n",
      "[1.8603562026368081, 0.8281808691913852, 5.132413750823531, 17829.211235962808, 264348.2647190448, 0.5045493620047097, 1.9582920855155663, 0.878886598558779]\n",
      "[8.494757077478454, 68.30500004212149, 78572.07992596552, 75.8541043533869, 265234.30294038355, 0.0633457802457591, 2.131705740088499, 0.8301482866548078]\n",
      "[1.5687490493325527, 0.4332312976241255, 5.003632237290617, 17711.323382076574, 5.4670534480181345, 8.898706045115002, 78785.30093980453, 22.1811808119525]\n",
      "[7.868905079690364, 62.119946088540246, 79089.12033536192, 102.17013562839861, 0.06404283647675069, 17576.65918121219, 28.839342269605368, 4.175974429109132]\n",
      "[9.075097371290866, 68.32902763679476, 78723.67965000076, 84.2835436245366, 0.1636268050708236, 1.818518856148561, 25.17507024596918, 174765.53399286303]\n",
      "[8.89740638604053, 66.55841173621388, 78863.09473083424, 92.01848411146489, 0.08119583313474965, 14.362755945464585, 78706.56316584931, 23.479740370722425]\n",
      "[1.6320041127569596, 0.4033064893339926, 5.7284505595612245, 17623.747075451072, 5.864743829192776, 1.3241975945271562, 23.961474606093397, 174678.0504051604]\n"
     ]
    }
   ],
   "source": [
    "import math\n",
    "import numpy as np\n",
    "\n",
    "# Расчет амплитуды для определенной частоты\n",
    "def goertzel_power_sqr(x, freq, block_len):\n",
    "    alpha = 2 * math.pi * freq / block_len\n",
    "    w_real = math.cos(alpha)\n",
    "\n",
    "    c = 2 * w_real\n",
    "    y  = 0.0\n",
    "    g1 = 0.0\n",
    "    g2 = 0.0\n",
    "    for n in range(block_len):\n",
    "        y = x[n] + c * g1 - g2\n",
    "        g2 = g1\n",
    "        g1 = y\n",
    "\n",
    "    power_k  = math.pow(g2, 2) + math.pow(g1, 2) - (c * g1 * g2)\n",
    "    return power_k\n",
    "\n",
    "used_freq = [697, 770, 852, 941, 1209, 1336, 1477, 1633]\n",
    "spectral_indexes = [np.ceil(used_freq[i] / N * signal_len) for i in range(len(used_freq))]\n",
    "\n",
    "# Применение алгоритма Герцеля для спектрального индекса каждой из частот и нахождение двух максимумов\n",
    "result_pairs = []\n",
    "for i in range(len(signals)):\n",
    "    res = []\n",
    "    for j in range(len(used_freq)):\n",
    "        res.append(goertzel_power_sqr(signals[i], spectral_indexes[j], signal_len))\n",
    "    print(res)\n",
    "    first_max = np.argmax(res)\n",
    "    res[first_max] = -1\n",
    "    second_max = np.argmax(res)\n",
    "    result_pairs.append(np.sort([used_freq[first_max], used_freq[second_max]]))"
   ]
  },
  {
   "cell_type": "code",
   "execution_count": 57,
   "metadata": {},
   "outputs": [
    {
     "name": "stdout",
     "output_type": "stream",
     "text": [
      "Ответ:\n",
      "2 A 3 B 4 C 5 D 6 * 7 # 8 C 9 D "
     ]
    }
   ],
   "source": [
    "buttons = {\n",
    "\tnp.array([697, 1209]).tobytes(): \"1\",\n",
    "\tnp.array([697, 1336]).tobytes(): \"2\",\n",
    "\tnp.array([697, 1477]).tobytes(): \"3\",\n",
    "\tnp.array([697, 1633]).tobytes(): \"A\",\n",
    "\tnp.array([770, 1209]).tobytes(): \"4\",\n",
    "\tnp.array([770, 1336]).tobytes(): \"5\",\n",
    "\tnp.array([770, 1477]).tobytes(): \"6\",\n",
    "\tnp.array([770, 1633]).tobytes(): \"B\",\n",
    "\tnp.array([852, 1209]).tobytes(): \"7\",\n",
    "\tnp.array([852, 1336]).tobytes(): \"8\",\n",
    "\tnp.array([852, 1477]).tobytes(): \"9\",\n",
    "\tnp.array([852, 1633]).tobytes(): \"C\",\n",
    "\tnp.array([941, 1209]).tobytes(): \"*\",\n",
    "\tnp.array([941, 1336]).tobytes(): \"0\",\n",
    "\tnp.array([941, 1477]).tobytes(): \"#\",\n",
    "\tnp.array([941, 1633]).tobytes(): \"D\",\n",
    "}\n",
    "\n",
    "print(\"Ответ:\")\n",
    "for pair in result_pairs:\n",
    "\tprint(buttons[np.array(pair).tobytes()], end=\" \")"
   ]
  }
 ],
 "metadata": {
  "kernelspec": {
   "display_name": "Python 3",
   "language": "python",
   "name": "python3"
  },
  "language_info": {
   "codemirror_mode": {
    "name": "ipython",
    "version": 3
   },
   "file_extension": ".py",
   "mimetype": "text/x-python",
   "name": "python",
   "nbconvert_exporter": "python",
   "pygments_lexer": "ipython3",
   "version": "3.10.12"
  }
 },
 "nbformat": 4,
 "nbformat_minor": 2
}
